{
 "cells": [
  {
   "cell_type": "code",
   "execution_count": 8,
   "id": "93bee0d8-58ec-47fe-b0af-a047d2ca0781",
   "metadata": {},
   "outputs": [],
   "source": [
    "from arcpy import *                           #import everythings from arcpy libraries.\n",
    "from arcpy.sa import *                        #import everythings from the ArcGIS Spatial Analyst extension.\n",
    "from arcpy.ia import Render                   #import rendering function from the ArcGIS Image Analyst extension.                     \n",
    "import shapefile as shp                       #import shapefile module as alias as shp.\n",
    "import matplotlib.pyplot as plt \n",
    "#from arcpy import *\n",
    "\n",
    "arcpy.env.workspace = \"C:\\\\Projects\\\\Topo\\\\arcpy\"\n",
    "arcpy.env.overwriteOutput = True\n",
    "\n",
    "grid_dir = \"C:\\\\Temp\\\\Topo\\\\lds-nz-150k-tile-index-SHP\\\\nz-150k-tile-index.shp\"\n",
    "\n",
    "in_dir = \"C:\\\\Temp\\\\Topo\\\\TopoBDE00-pre-reblocker\\\\\"\n",
    "airport_poly  = in_dir + \"airport_poly.shp\"\n"
   ]
  },
  {
   "cell_type": "code",
   "execution_count": 4,
   "id": "34888154-ab2d-4a7f-890a-c896d74f25bc",
   "metadata": {},
   "outputs": [
    {
     "data": {
      "image/png": "[encoded data removed]",
      "text/plain": [
       "<Figure size 500x1000 with 1 Axes>"
      ]
     },
     "metadata": {},
     "output_type": "display_data"
    }
   ],
   "source": [
    "shapefile_to_visualize = airport_poly\n",
    "\n",
    "# No changes below this line ----------------------------------------------------------\n",
    "# Visualize the shapefile\n",
    "\n",
    "fig, ax = plt.subplots(figsize=(5,10))                         #Create a figure and a set of subplots.\n",
    "ax.ticklabel_format(style='plain')                             #Configure the ScalarFormatter used by default for linear axes.\n",
    " \n",
    "sf = shp.Reader(shapefile_to_visualize)                        #Reading shp file\n",
    "\n",
    "for s in sf.shapeRecords():                                    #Data bring into list\n",
    "    for i in range(len(s.shape.parts)):                        \n",
    "        start = s.shape.parts[i]\n",
    "        end = len(s.shape.points) if i==len(s.shape.parts)-1 else s.shape.parts[i+1]\n",
    "            \n",
    "        x = [i[0] for i in s.shape.points[start:end]]\n",
    "        y = [i[1] for i in s.shape.points[start:end]]\n",
    "        ax.plot(x, y, color='blue')                            #Plotting multiple sets of data with maker and color\n",
    "\n",
    "ax.set_xticks([])\n",
    "ax.set_yticks([])\n",
    "plt.show()"
   ]
  },
  {
   "cell_type": "code",
   "execution_count": 9,
   "id": "b9ed5602-620e-4c6c-8cff-8867611e2e5b",
   "metadata": {},
   "outputs": [
    {
     "data": {
      "image/png": "[encoded data removed]",
      "text/plain": [
       "<Figure size 500x1000 with 1 Axes>"
      ]
     },
     "metadata": {},
     "output_type": "display_data"
    }
   ],
   "source": [
    "shapefile_to_visualize = grid_dir\n",
    "\n",
    "# No changes below this line ----------------------------------------------------------\n",
    "# Visualize the shapefile\n",
    "\n",
    "fig, ax = plt.subplots(figsize=(5,10))                         #Create a figure and a set of subplots.\n",
    "ax.ticklabel_format(style='plain')                             #Configure the ScalarFormatter used by default for linear axes.\n",
    " \n",
    "sf = shp.Reader(shapefile_to_visualize)                        #Reading shp file\n",
    "\n",
    "for s in sf.shapeRecords():                                    #Data bring into list\n",
    "    for i in range(len(s.shape.parts)):                        \n",
    "        start = s.shape.parts[i]\n",
    "        end = len(s.shape.points) if i==len(s.shape.parts)-1 else s.shape.parts[i+1]\n",
    "            \n",
    "        x = [i[0] for i in s.shape.points[start:end]]\n",
    "        y = [i[1] for i in s.shape.points[start:end]]\n",
    "        ax.plot(x, y, color='blue')                            #Plotting multiple sets of data with maker and color\n",
    "\n",
    "ax.set_xticks([])\n",
    "ax.set_yticks([])\n",
    "plt.show()"
   ]
  },
  {
   "cell_type": "code",
   "execution_count": 27,
   "id": "1a88536e-9caa-4b3b-acf9-43a5ccbc1980",
   "metadata": {},
   "outputs": [
    {
     "data": {
      "text/html": [
       "<div class='gpresult'><h2 class='msg-title'>Messages</h2><div id='messages'>Start Time: Monday, March 3, 2025 9:43:23 AM<br>Reading Features...<br>Cracking Features...<br>Assembling Features...<br>Succeeded at Monday, March 3, 2025 9:43:23 AM (Elapsed Time: 0.09 seconds)<br></div><div id = 'default' /></div></div>"
      ],
      "text/plain": [
       "<Result 'C:\\\\Projects\\\\Topo\\\\arcpy\\\\grid_line.shp'>"
      ]
     },
     "execution_count": 27,
     "metadata": {},
     "output_type": "execute_result"
    }
   ],
   "source": [
    "arcpy.management.PolygonToLine(grid_dir,\"grid_line.shp\")"
   ]
  },
  {
   "cell_type": "code",
   "execution_count": 1,
   "id": "f3ad257e-0ac2-4644-b4a6-a6064c57fb25",
   "metadata": {},
   "outputs": [
    {
     "name": "stdout",
     "output_type": "stream",
     "text": [
      "airport_poly.shp\n"
     ]
    }
   ],
   "source": [
    "import geopandas as gpd\n",
    "import os\n",
    "\n",
    "# Set the path to the folder containing shapefiles\n",
    "folder_path = \"C:\\\\Temp\\\\Topo\\\\TopoBDE00-pre-reblocker\\\\\"\n",
    "\n",
    "# Read all shapefiles in the folder\n",
    "shapefiles = [gpd.read_file(os.path.join(folder_path, file)) for file in os.listdir(folder_path) if file.endswith('.shp')]\n",
    "\n",
    "# Set the path to the second shapefile\n",
    "shapefile_path_2 = \"C:\\\\Temp\\\\Topo\\\\lds-nz-150k-tile-index-SHP\\\\nz-150k-tile-index.shp\"\n",
    "\n",
    "# Read the second shapefile\n",
    "shapefile_2 = gpd.read_file(shapefile_path_2)\n",
    "\n",
    "# Add a 1-meter buffer to shapefile_2\n",
    "shapefile_2['geometry'] = shapefile_2.geometry.buffer(1)\n",
    "\n",
    "# Process each shapefile in the folder\n",
    "for shapefile_path in os.listdir(folder_path):\n",
    "    if shapefile_path.endswith('.shp'):\n",
    "        shapefile = gpd.read_file(os.path.join(folder_path, shapefile_path))\n",
    "        \n",
    "        # Print the fields in the shapefile\n",
    "        print(shapefile_path)\n",
    "\n",
    "        # Compare geometries and filter out touched geometries\n",
    "        touched_geometries = shapefile[shapefile.geometry.apply(lambda geom1: any(geom1.overlaps(geom2) or geom1.touches(geom2) for geom2 in shapefile_2.geometry))]\n",
    "\n",
    "        # Save the results to a new shapefile with a name derived from the input file name\n",
    "        input_file_name = os.path.basename(shapefile_path).replace('.shp', '')\n",
    "        output_path = f\"C:\\\\Temp\\\\Topo\\\\outs\\\\{input_file_name}_f.shp\"\n",
    "        touched_geometries.to_file(output_path)\n",
    "        break\n"
   ]
  },
  {
   "cell_type": "code",
   "execution_count": 4,
   "id": "733ab7e1-ad95-4aae-a362-e18bd00be13e",
   "metadata": {},
   "outputs": [
    {
     "data": {
      "image/png": "[encoded data removed]",
      "text/plain": [
       "<Figure size 500x1000 with 1 Axes>"
      ]
     },
     "metadata": {},
     "output_type": "display_data"
    }
   ],
   "source": [
    "import matplotlib.pyplot as plt\n",
    "import shapefile as shp     \n",
    "\n",
    "shapefile_to_visualize = output_path\n",
    "\n",
    "# No changes below this line ----------------------------------------------------------\n",
    "# Visualize the shapefile\n",
    "\n",
    "fig, ax = plt.subplots(figsize=(5,10))                         #Create a figure and a set of subplots.\n",
    "ax.ticklabel_format(style='plain')                             #Configure the ScalarFormatter used by default for linear axes.\n",
    " \n",
    "sf = shp.Reader(shapefile_to_visualize)                        #Reading shp file\n",
    "\n",
    "for s in sf.shapeRecords():                                    #Data bring into list\n",
    "    for i in range(len(s.shape.parts)):                        \n",
    "        start = s.shape.parts[i]\n",
    "        end = len(s.shape.points) if i==len(s.shape.parts)-1 else s.shape.parts[i+1]\n",
    "            \n",
    "        x = [i[0] for i in s.shape.points[start:end]]\n",
    "        y = [i[1] for i in s.shape.points[start:end]]\n",
    "        ax.plot(x, y, color='blue')                            #Plotting multiple sets of data with maker and color\n",
    "\n",
    "ax.set_xticks([])\n",
    "ax.set_yticks([])\n",
    "plt.show()"
   ]
  }
 ],
 "metadata": {
  "kernelspec": {
   "display_name": "Python 3 (ipykernel)",
   "language": "python",
   "name": "python3"
  },
  "language_info": {
   "codemirror_mode": {
    "name": "ipython",
    "version": 3
   },
   "file_extension": ".py",
   "mimetype": "text/x-python",
   "name": "python",
   "nbconvert_exporter": "python",
   "pygments_lexer": "ipython3",
   "version": "3.11.10"
  }
 },
 "nbformat": 4,
 "nbformat_minor": 5
}
